{
 "cells": [
  {
   "cell_type": "markdown",
   "id": "82cba2ac",
   "metadata": {},
   "source": [
    "## Задание 1 \n",
    "\n",
    "### На складе лежат разные фрукты в разном количестве. Нужно написать функцию, которая на вход принимает любое количество названий фруктов и их количество, а возвращает общее количество фруктов на складе"
   ]
  },
  {
   "cell_type": "code",
   "execution_count": 74,
   "id": "a84d7be7",
   "metadata": {},
   "outputs": [
    {
     "data": {
      "text/plain": [
       "23"
      ]
     },
     "execution_count": 74,
     "metadata": {},
     "output_type": "execute_result"
    }
   ],
   "source": [
    "def count_fruit(**kwargs):\n",
    "    sum=0\n",
    "    for i in kwargs:\n",
    "        sum=sum+kwargs[i]\n",
    "    return sum\n",
    "\n",
    "count_fruit(banana=5, mango=7, apple=8, oranges=3)"
   ]
  },
  {
   "cell_type": "markdown",
   "id": "65f69488",
   "metadata": {},
   "source": [
    "## Задача 2\n",
    "\n",
    "### Дан список с затратами на рекламу. Но в данных есть ошибки, некоторые затраты имеют отрицательную величину. Удалите такие значения из списка и посчитайте суммарные затраты"
   ]
  },
  {
   "cell_type": "code",
   "execution_count": 18,
   "id": "1f345e52",
   "metadata": {},
   "outputs": [],
   "source": [
    "list_zatr=[100, 125, -90, 345, 655, -1, 0, 200]"
   ]
  },
  {
   "cell_type": "code",
   "execution_count": 28,
   "id": "1cc7515a",
   "metadata": {},
   "outputs": [
    {
     "data": {
      "text/plain": [
       "1425"
      ]
     },
     "execution_count": 28,
     "metadata": {},
     "output_type": "execute_result"
    }
   ],
   "source": [
    "def sum_zatr(list1: list) -> int:  \n",
    "    price=[]\n",
    "    sum=0\n",
    "    for i in list1:\n",
    "        if i>=0:\n",
    "            sum=sum+i\n",
    "    return sum\n",
    "\n",
    "sum_zatr(list_zatr)\n",
    "        "
   ]
  },
  {
   "cell_type": "markdown",
   "id": "93959c90",
   "metadata": {},
   "source": [
    "### Задача 2.1 Используйте list comprehensions"
   ]
  },
  {
   "cell_type": "code",
   "execution_count": 46,
   "id": "656b2a24",
   "metadata": {},
   "outputs": [
    {
     "name": "stdout",
     "output_type": "stream",
     "text": [
      "1425\n"
     ]
    }
   ],
   "source": [
    "def sum_zatr3(list1: list) -> int:\n",
    "    print(sum([i for i in list1 if i>=0]))\n",
    "\n",
    "sum_zatr3(list_zatr)"
   ]
  },
  {
   "cell_type": "markdown",
   "id": "5bee2ce2",
   "metadata": {},
   "source": [
    "### Задача 3.1 Найдите, какая выручка у компании в ноябре"
   ]
  },
  {
   "cell_type": "code",
   "execution_count": 50,
   "id": "831a0aed",
   "metadata": {},
   "outputs": [],
   "source": [
    "date=['2021-09-14', '2021-12-15', '2021-09-08', '2021-12-05', '2021-10-09', '2021-09-30', '2021-12-22', '2021-11-29', '2021-12-24', '2021-11-26', '2021-10-27', '2021-12-18', '2021-11-09', '2021-11-23', '2021-09-27', '2021-10-02', '2021-12-27', '2021-09-20', '2021-12-13', '2021-11-01', '2021-11-09', '2021-12-06', '2021-12-08', '2021-10-09', '2021-10-31', '2021-09-30', '2021-11-09', '2021-12-13', '2021-10-26', '2021-12-09']"
   ]
  },
  {
   "cell_type": "code",
   "execution_count": 51,
   "id": "b415c814",
   "metadata": {},
   "outputs": [],
   "source": [
    "money=[1270, 8413, 9028, 3703, 5739, 4095, 295, 4944, 5723, 3701, 4471, 651, 7037, 4274, 6275, 4988, 6930, 2971, 6592, 2004, 2822, 519, 3406, 2732, 5015, 2008, 316, 6333, 5700, 2887]"
   ]
  },
  {
   "cell_type": "code",
   "execution_count": 63,
   "id": "eeaf49ee",
   "metadata": {},
   "outputs": [
    {
     "data": {
      "text/plain": [
       "25098"
      ]
     },
     "execution_count": 63,
     "metadata": {},
     "output_type": "execute_result"
    }
   ],
   "source": [
    "def sum_in_month(date: list, money: list) -> dict:\n",
    "    sum=0\n",
    "    for k, v in zip(date, money):\n",
    "        if k[5:7]=='11':\n",
    "            sum=sum+v         \n",
    "    return sum\n",
    "\n",
    "sum_in_month(date,money)\n",
    "        "
   ]
  },
  {
   "cell_type": "markdown",
   "id": "4c0338ae",
   "metadata": {},
   "source": [
    "### 3.2 Используйте list comprehensions"
   ]
  },
  {
   "cell_type": "code",
   "execution_count": 72,
   "id": "e697b174",
   "metadata": {},
   "outputs": [
    {
     "name": "stdout",
     "output_type": "stream",
     "text": [
      "25098\n"
     ]
    }
   ],
   "source": [
    "print(sum([v for k, v in zip(date, money) if k[5:7] == \"11\"]))"
   ]
  },
  {
   "cell_type": "markdown",
   "id": "cc10b7f9",
   "metadata": {},
   "source": [
    "### 3.2  Найдите выручку компании в зависимости от месяца"
   ]
  },
  {
   "cell_type": "code",
   "execution_count": 65,
   "id": "b1f64118",
   "metadata": {},
   "outputs": [
    {
     "name": "stdout",
     "output_type": "stream",
     "text": [
      "{'09': 25647, '12': 45452, '10': 28645, '11': 25098}\n"
     ]
    }
   ],
   "source": [
    "def sum_in_month(date: list, money: list) -> dict:\n",
    "    res = {}\n",
    "    for k, v in zip(date, money):\n",
    "        if k[5:7] in res.keys():\n",
    "            res[k[5:7]] = res[k[5:7]] + v\n",
    "        else:\n",
    "            res[k[5:7]] = v\n",
    "    return res\n",
    " \n",
    "print(sum_in_month(date, money))"
   ]
  }
 ],
 "metadata": {
  "kernelspec": {
   "display_name": "Python 3 (ipykernel)",
   "language": "python",
   "name": "python3"
  },
  "language_info": {
   "codemirror_mode": {
    "name": "ipython",
    "version": 3
   },
   "file_extension": ".py",
   "mimetype": "text/x-python",
   "name": "python",
   "nbconvert_exporter": "python",
   "pygments_lexer": "ipython3",
   "version": "3.9.13"
  }
 },
 "nbformat": 4,
 "nbformat_minor": 5
}
